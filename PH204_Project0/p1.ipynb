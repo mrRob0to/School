{
 "cells": [
  {
   "cell_type": "code",
   "execution_count": 195,
   "id": "binding-promise",
   "metadata": {},
   "outputs": [
    {
     "name": "stdout",
     "output_type": "stream",
     "text": [
      "0\n",
      "0    1481\n",
      "1    1456\n",
      "2    1321\n",
      "3    1261\n",
      "4    1261\n",
      "7    1198\n",
      "6    1171\n",
      "5    1164\n",
      "9    1065\n",
      "8    1022\n",
      "dtype: int64\n"
     ]
    }
   ],
   "source": [
    "import numpy as np\n",
    "import pandas as pd\n",
    "import matplotlib as plt\n",
    "import csv\n",
    "\n",
    "#pd.options.display.float_format = '{:e}'.format\n",
    "\n",
    "####INPUT ORIGINAL DATASET AND OUTPUT TRIMMED COLUMNS###\n",
    "main = pd.read_csv (\"C:\\\\Users\\\\mrrob\\\\OneDrive\\\\Desktop\\\\Recitation2\\\\API_NY.GDP.MKTP.CD_DS2_en_csv_v2_2001204.csv\", error_bad_lines=False)\n",
    "cut = main[main.columns[4:64]]\n",
    "cut.to_csv('out.csv', index=False, header=False, float_format='%.0f')\n",
    "\n",
    "\n",
    "###INPUT TRIMMED DATASET AND PARSE FOR LEADING DIGIT###\n",
    "with open('newOut.csv', 'a', newline='') as file:\n",
    "\twriter = csv.writer(file)\n",
    "\n",
    "\twith open('out.csv') as csv_file:\n",
    "\t\tcsv_reader = csv.reader(csv_file, delimiter=',')\n",
    "\n",
    "\t\tfor row in csv_reader:\n",
    "\t\t\tfor column in row:\n",
    "\t\t\t\tif column == \"\":\n",
    "\t\t\t\t\tcontinue\n",
    "\t\t\t\telse: \n",
    "\t\t\t\t\twriter.writerow(column[1])\n",
    "\n",
    "\n",
    "###OPEN AND PRINT FILTERED DATASET###\n",
    "main = pd.read_csv (\"C:\\\\Users\\\\mrrob\\\\OneDrive\\\\Desktop\\\\Recitation2\\\\newOut.csv\", error_bad_lines=False)\n",
    "print(main.value_counts())  \n",
    "\n"
   ]
  },
  {
   "cell_type": "code",
   "execution_count": 198,
   "id": "amber-tolerance",
   "metadata": {},
   "outputs": [
    {
     "data": {
      "image/png": "[encoded data removed]",
      "text/plain": [
       "<Figure size 432x288 with 1 Axes>"
      ]
     },
     "metadata": {
      "needs_background": "light"
     },
     "output_type": "display_data"
    }
   ],
   "source": [
    "import pandas as pd\n",
    "import matplotlib.pyplot as plt\n",
    "\n",
    "#TOTAL VALUES: 12400\n",
    "\n",
    "#First Digit\n",
    "plt.plot([0, 1, 2, 3, 4, 5, 6, 7, 8, 9], [0, .31, .17, .13, .10, .08, .07, .05, .05, .04], label = 'First Digit')\n",
    "#Second Digit\n",
    "plt.plot([0, 1, 2, 3, 4, 5, 6, 7, 8, 9], [.12, .12, .11, .10, .10, .09, .09, .10, .08, .09], label = 'Second Digit')\n",
    "plt.ylabel('Probability')\n",
    "plt.xlabel(\"Digit\")\n",
    "plt.xticks([0, 1, 2, 3, 4, 5, 6, 7, 8, 9])\n",
    "plt.legend()\n",
    "plt.show()\n"
   ]
  },
  {
   "cell_type": "code",
   "execution_count": 177,
   "id": "breeding-tunisia",
   "metadata": {
    "scrolled": true
   },
   "outputs": [
    {
     "name": "stdout",
     "output_type": "stream",
     "text": [
      "SDA\n"
     ]
    }
   ],
   "source": [
    "import numpy as np\n",
    "import pandas as pd\n",
    "import matplotlib as plt\n",
    "import csv\n",
    "\n",
    "\n",
    "\n",
    "\n",
    "\n"
   ]
  },
  {
   "cell_type": "code",
   "execution_count": null,
   "id": "governing-interview",
   "metadata": {},
   "outputs": [],
   "source": []
  },
  {
   "cell_type": "code",
   "execution_count": null,
   "id": "formed-collector",
   "metadata": {},
   "outputs": [],
   "source": []
  }
 ],
 "metadata": {
  "kernelspec": {
   "display_name": "Python 3",
   "language": "python",
   "name": "python3"
  },
  "language_info": {
   "codemirror_mode": {
    "name": "ipython",
    "version": 3
   },
   "file_extension": ".py",
   "mimetype": "text/x-python",
   "name": "python",
   "nbconvert_exporter": "python",
   "pygments_lexer": "ipython3",
   "version": "3.9.1"
  }
 },
 "nbformat": 4,
 "nbformat_minor": 5
}
